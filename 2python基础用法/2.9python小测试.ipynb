{
 "cells": [
  {
   "cell_type": "markdown",
   "metadata": {
    "toc": true
   },
   "source": [
    "<h1>Table of Contents<span class=\"tocSkip\"></span></h1>\n",
    "<div class=\"toc\"><ul class=\"toc-item\"><li><span><a href=\"#直观的时间表示(2.2,-2.3)\" data-toc-modified-id=\"直观的时间表示(2.2,-2.3)-1\"><span class=\"toc-item-num\">1&nbsp;&nbsp;</span>直观的时间表示(2.2, 2.3)</a></span></li><li><span><a href=\"#查找最大的5个数字（2.2,-2.3,-2.5）\" data-toc-modified-id=\"查找最大的5个数字（2.2,-2.3,-2.5）-2\"><span class=\"toc-item-num\">2&nbsp;&nbsp;</span>查找最大的5个数字（2.2, 2.3, 2.5）</a></span></li><li><span><a href=\"#3位数的小烦恼(2.3,-2.5)\" data-toc-modified-id=\"3位数的小烦恼(2.3,-2.5)-3\"><span class=\"toc-item-num\">3&nbsp;&nbsp;</span>3位数的小烦恼(2.3, 2.5)</a></span></li><li><span><a href=\"#用数字来代替字母(2.3,-2.5）\" data-toc-modified-id=\"用数字来代替字母(2.3,-2.5）-4\"><span class=\"toc-item-num\">4&nbsp;&nbsp;</span>用数字来代替字母(2.3, 2.5）</a></span></li></ul></div>"
   ]
  },
  {
   "cell_type": "markdown",
   "metadata": {},
   "source": [
    "题目均来自Codewars， 可以检测下自己， 每天至少更新一道， 题目锻炼的是是对python编程熟练程度和思维能力"
   ]
  },
  {
   "cell_type": "markdown",
   "metadata": {},
   "source": [
    "标题后面的数字代表知识点对应的章节，偶尔有些知识点可能没涉及到，锻炼查找知识能力哈 ~"
   ]
  },
  {
   "cell_type": "markdown",
   "metadata": {},
   "source": [
    "## 直观的时间表示(2.2, 2.3)"
   ]
  },
  {
   "cell_type": "markdown",
   "metadata": {},
   "source": [
    "**题目**：写一个函数，输入整数秒，然后以(HH:MM:SS)格式返回人们能直观读懂的时间\n",
    "    \n",
    "      HH = 小时，保留两位 范围 00 - 99   \n",
    "\n",
    "      MM = 分钟，保留两位 范围 00 - 59   \n",
    "\n",
    "      SS = 秒  ，保留两位 范围 00 - 59   \n",
    "\n",
    "      题目测试中输入最大不会超过 359999 (99:59:59) 写函数的时候不需要考虑输入\n",
    "      \n",
    "**比如** ： make_readable(86399) 会返回 \"23:59:59\"\n",
    "    "
   ]
  },
  {
   "cell_type": "code",
   "execution_count": 2,
   "metadata": {
    "collapsed": true
   },
   "outputs": [],
   "source": [
    "# 给出你的回答\n",
    "\n",
    "def make_readable(seconds):\n",
    "    pass\n",
    "    # return "
   ]
  },
  {
   "cell_type": "markdown",
   "metadata": {},
   "source": [
    "**运行下面的小测试1， 来检查检查 ~**"
   ]
  },
  {
   "cell_type": "code",
   "execution_count": 100,
   "metadata": {},
   "outputs": [
    {
     "name": "stdout",
     "output_type": "stream",
     "text": [
      "通过小测试 1， 运行下面的终极测试 ~\n"
     ]
    }
   ],
   "source": [
    "your_answer = make_readable(86399)\n",
    "actual_answer = '{:02}:{:02}:{:02}'.format(86399 // 3600, 86399 % 3600 // 60, 86399 % 60)\n",
    "\n",
    "assert your_answer == actual_answer, '你的答案是{}, 实际答案是{}, 再检查检查 ~'.format(your_answer, actual_answer)\n",
    "print('通过小测试 1， 运行下面的终极测试 ~')"
   ]
  },
  {
   "cell_type": "code",
   "execution_count": 101,
   "metadata": {
    "scrolled": true
   },
   "outputs": [
    {
     "name": "stdout",
     "output_type": "stream",
     "text": [
      "Good job ~\n"
     ]
    }
   ],
   "source": [
    "for i in range(360000):\n",
    "    assert make_readable(i) == '{:02}:{:02}:{:02}'.format(i // 3600, i % 3600 // 60, i % 60), '再检查检查 ~'\n",
    "print('Good job ~')"
   ]
  },
  {
   "cell_type": "markdown",
   "metadata": {},
   "source": [
    "**本题要点**\n",
    "* 除法求整数 // ，求余数 %\n",
    "* 格式化字符串表达\n",
    "* 占位符 （学会查找）"
   ]
  },
  {
   "cell_type": "markdown",
   "metadata": {},
   "source": [
    "## 查找最大的5个数字(2.2, 2.3, 2.5)"
   ]
  },
  {
   "cell_type": "markdown",
   "metadata": {},
   "source": [
    "**题目**：在函数中输入一个数字，找到这个数字中最大的5位数。\n",
    "\n",
    "**比如**：12393875479720558 会返回 97205\n",
    "\n",
    "\t  5432657255214  会返回72552\n",
    "\n",
    "\t （检验中会用一个长达1000位的数字来验证， 测验答案后还有个小扩展）\n"
   ]
  },
  {
   "cell_type": "code",
   "execution_count": null,
   "metadata": {
    "collapsed": true
   },
   "outputs": [],
   "source": [
    "def solution(digits):\n",
    "    pass\n",
    "    # return"
   ]
  },
  {
   "cell_type": "markdown",
   "metadata": {},
   "source": [
    "**运行下面的小测试1， 来检查检查 ~**"
   ]
  },
  {
   "cell_type": "code",
   "execution_count": 48,
   "metadata": {},
   "outputs": [
    {
     "name": "stdout",
     "output_type": "stream",
     "text": [
      "通过小测试 1， 运行下面1000位数的终极测试 ~\n"
     ]
    }
   ],
   "source": [
    "# 小测试 1\n",
    "your_answer = solution(5432657255214)\n",
    "actual_answer = max([int(str(5432657255214)[i:i+5]) for i in range(len(str(5432657255214)) - 4)])\n",
    "                       \n",
    "assert your_answer == actual_answer,'你的答案是{}, 实际答案是{}, 再检查检查 ~'.format(your_answer, actual_answer)\n",
    "print('通过小测试 1， 运行下面1000位数的终极测试 ~')"
   ]
  },
  {
   "cell_type": "code",
   "execution_count": 50,
   "metadata": {},
   "outputs": [
    {
     "name": "stdout",
     "output_type": "stream",
     "text": [
      "通过终极测试，给大家提供的答案是投票最高的答案，我当时做题的答案没这么好，哈哈哈 ~ 接下来的几行cell是我的小扩展， 快去看 ~\n"
     ]
    }
   ],
   "source": [
    "# 1000位数的终极测试\n",
    "from random import randint\n",
    "a = randint(1, 10000000000000000000000000000000000000000000000000000000000000000000000000000000000000000000000000000000000000000000000000000000000000000000000000000000000000000000000000000000000000000000000000000000000000000000000000000000000000000000000000000000000000000000000000000000000000000000000000000000000000000000000000000000000000000000000000000000000000000000000000000000000000000000000000000000000000000000000000000000000000000000000000000000000000000000000000000000000000000000000000000000000000000000000000000000000000000000000000000000000000000000000000000000000000000000000000000000000000000000000000000000000000000000000000000000000000000000000000000000000000000000000000000000000000000000000000000000000000000000000000000000000000000000000000000000000000000000000000000000000000000000000000000000000000000000000000000000000000000000000000000000000000000000000000000000000000000000000000000000000000000000000000000000000000000000000000000000000000000000000000000000000000000000000000000000000000000)\n",
    "\n",
    "your_answer = solution(a)\n",
    "actual_answer = max([int(str(a)[i:i+5]) for i in range(len(str(a)) - 4)])\n",
    "assert your_answer == actual_answer,'你的答案是{}, 实际答案是{}, 再检查检查 ~'.format(your_answer, actual_answer)\n",
    "print('通过终极测试，给大家提供的答案是投票最高的答案，我当时做题的答案没这么好，哈哈哈 ~ 接下来的几行cell是我的小扩展， 快去看 ~')"
   ]
  },
  {
   "cell_type": "markdown",
   "metadata": {},
   "source": [
    "** 小扩展**"
   ]
  },
  {
   "cell_type": "markdown",
   "metadata": {},
   "source": [
    "codewar上提供的投票最高的答案是这样的  max([int(str(a)[i:i+5]) for i in range(len(str(a)) - 4)]) \n",
    "\n",
    "我当时的答案比较长， 是通过不断找最大值来实现 ~\n",
    "\n",
    "在最佳答案下的讨论中，我看到有人说这个答案虽然简洁，但是创建list包含了所有的值，然后求最大效率是很不高效的，应该还是要引入最大值，最大值变化，最后求出最大值， 我不禁激动了一下，做了个小实验   !"
   ]
  },
  {
   "cell_type": "code",
   "execution_count": 86,
   "metadata": {},
   "outputs": [
    {
     "name": "stdout",
     "output_type": "stream",
     "text": [
      "99878\n",
      "0.02506422996520996\n"
     ]
    }
   ],
   "source": [
    "# 引入时间模块，为了计时，预计 2.7 中会学到\n",
    "# time.time() 的意思是说调用 time 模块中的 time 函数, 也就是获取当前时间\n",
    "# 计时就是 得到开始时间和得到最后时间，将它们相减就是程序运行时间\n",
    "\n",
    "# 我们来看看最佳答案运行时间\n",
    "import time\n",
    "\n",
    "def solution(digits):\n",
    "    start_time = time.time()\n",
    "    print(max([int(str(digits)[i:i+5]) for i in range(len(str(digits)) - 4)]))\n",
    "    print(time.time() - start_time)\n",
    "solution2(a)  # a 在终极测试中已经被定义了"
   ]
  },
  {
   "cell_type": "code",
   "execution_count": 87,
   "metadata": {},
   "outputs": [
    {
     "name": "stdout",
     "output_type": "stream",
     "text": [
      "99878\n",
      "0.0220334529876709\n"
     ]
    }
   ],
   "source": [
    "# 我们来看看我的答案运行时间\n",
    "def solution(digits):\n",
    "    start_time = time.time()\n",
    "    max_number = 0\n",
    "    for i in range(len(str(digits)) - 4):\n",
    "        if int(str(digits)[i:i+5]) > max_number:\n",
    "            max_number = int(str(digits)[i:i+5])\n",
    "    print(max_number)\n",
    "    print(time.time() - start_time)\n",
    "solution(a)"
   ]
  },
  {
   "cell_type": "markdown",
   "metadata": {},
   "source": [
    "反复运行几次， 我发现这个时间一直在变，一会儿这个大，一会儿那个大，可能要当数据足够大的时候，才能知道究竟哪个更高效，可以试试在a上添加更多的零， 希望以后学习中能探究到这个高效的问题， 在大数据时代，高效很重要，学习学习 哈哈哈哈哈哈哈哈哈哈 ~"
   ]
  },
  {
   "cell_type": "markdown",
   "metadata": {},
   "source": [
    "**本题要点** \n",
    "\n",
    "- 列表循环构建\n",
    "- 数据格式转换\n",
    "- 字符串切片\n",
    "* 扩展了下时间和高效的概念\n"
   ]
  },
  {
   "cell_type": "markdown",
   "metadata": {},
   "source": [
    "## 3位数的小烦恼(2.3, 2.5)"
   ]
  },
  {
   "cell_type": "markdown",
   "metadata": {},
   "source": [
    "**题目**：在函数中输入两个数，若第一个数中出现连续的三位相同的数字，若这个数字在第二个数中也出现，则返回True，表明三位数找到了那个二位数，否则返回False，伤心的三位数没有找到那个二位数\n",
    "      \n",
    "**比如** ： (451999277, 41177722899) 返回True\n",
    "\n",
    "\t   (1222345, 12345) 返回False\n",
    "\n",
    "       (12345, 12345) 返回False\n"
   ]
  },
  {
   "cell_type": "code",
   "execution_count": 10,
   "metadata": {
    "collapsed": true
   },
   "outputs": [],
   "source": [
    "def triple_double(num1, num2):\n",
    "    pass\n",
    "    # return "
   ]
  },
  {
   "cell_type": "code",
   "execution_count": 12,
   "metadata": {
    "collapsed": true
   },
   "outputs": [
    {
     "ename": "AssertionError",
     "evalue": "你的答案是None, 实际答案是True, 再检查检查 ~",
     "output_type": "error",
     "traceback": [
      "\u001b[1;31m---------------------------------------------------------------------------\u001b[0m",
      "\u001b[1;31mAssertionError\u001b[0m                            Traceback (most recent call last)",
      "\u001b[1;32m<ipython-input-12-b68438070995>\u001b[0m in \u001b[0;36m<module>\u001b[1;34m()\u001b[0m\n\u001b[0;32m      2\u001b[0m \u001b[0myour_answer\u001b[0m \u001b[1;33m=\u001b[0m \u001b[0mtriple_double\u001b[0m\u001b[1;33m(\u001b[0m\u001b[1;36m451999277\u001b[0m\u001b[1;33m,\u001b[0m \u001b[1;36m41177722899\u001b[0m\u001b[1;33m)\u001b[0m\u001b[1;33m\u001b[0m\u001b[0m\n\u001b[0;32m      3\u001b[0m \u001b[0mactual_answer\u001b[0m \u001b[1;33m=\u001b[0m \u001b[0many\u001b[0m\u001b[1;33m(\u001b[0m\u001b[1;33m[\u001b[0m\u001b[0mi\u001b[0m \u001b[1;33m*\u001b[0m \u001b[1;36m3\u001b[0m \u001b[1;32min\u001b[0m \u001b[0mstr\u001b[0m\u001b[1;33m(\u001b[0m\u001b[1;36m451999277\u001b[0m\u001b[1;33m)\u001b[0m \u001b[1;32mand\u001b[0m \u001b[0mi\u001b[0m \u001b[1;33m*\u001b[0m \u001b[1;36m2\u001b[0m \u001b[1;32min\u001b[0m \u001b[0mstr\u001b[0m\u001b[1;33m(\u001b[0m\u001b[1;36m41177722899\u001b[0m\u001b[1;33m)\u001b[0m \u001b[1;32mfor\u001b[0m \u001b[0mi\u001b[0m \u001b[1;32min\u001b[0m \u001b[1;34m'0123456789'\u001b[0m\u001b[1;33m]\u001b[0m\u001b[1;33m)\u001b[0m\u001b[1;33m\u001b[0m\u001b[0m\n\u001b[1;32m----> 4\u001b[1;33m \u001b[1;32massert\u001b[0m \u001b[0myour_answer\u001b[0m \u001b[1;33m==\u001b[0m \u001b[0mactual_answer\u001b[0m\u001b[1;33m,\u001b[0m\u001b[1;34m'你的答案是{}, 实际答案是{}, 再检查检查 ~'\u001b[0m\u001b[1;33m.\u001b[0m\u001b[0mformat\u001b[0m\u001b[1;33m(\u001b[0m\u001b[0myour_answer\u001b[0m\u001b[1;33m,\u001b[0m \u001b[0mactual_answer\u001b[0m\u001b[1;33m)\u001b[0m\u001b[1;33m\u001b[0m\u001b[0m\n\u001b[0m\u001b[0;32m      5\u001b[0m \u001b[1;33m\u001b[0m\u001b[0m\n\u001b[0;32m      6\u001b[0m \u001b[0myour_answer\u001b[0m \u001b[1;33m=\u001b[0m \u001b[0mtriple_double\u001b[0m\u001b[1;33m(\u001b[0m\u001b[1;36m1222345\u001b[0m\u001b[1;33m,\u001b[0m \u001b[1;36m12345\u001b[0m\u001b[1;33m)\u001b[0m\u001b[1;33m\u001b[0m\u001b[0m\n",
      "\u001b[1;31mAssertionError\u001b[0m: 你的答案是None, 实际答案是True, 再检查检查 ~"
     ]
    }
   ],
   "source": [
    "# 小测试 \n",
    "your_answer = triple_double(451999277, 41177722899)\n",
    "actual_answer = any([i * 3 in str(451999277) and i * 2 in str(41177722899) for i in '0123456789'])                       \n",
    "assert your_answer == actual_answer,'你的答案是{}, 实际答案是{}, 再检查检查 ~'.format(your_answer, actual_answer)\n",
    "\n",
    "your_answer = triple_double(1222345, 12345)\n",
    "actual_answer = any([i * 3 in str(1222345) and i * 2 in str(12345) for i in '0123456789'])                       \n",
    "assert your_answer == actual_answer,'你的答案是{}, 实际答案是{}, 再检查检查 ~'.format(your_answer, actual_answer)\n",
    "\n",
    "your_answer = triple_double(12345, 12345)\n",
    "actual_answer = any([i * 3 in str(12345) and i * 2 in str(12345) f用数字来代替字母(2.3, 2.5）or i in '0123456789'])                       \n",
    "assert your_answer == actual_answer,'你的答案是{}, 实际答案是{}, 再检查检查 ~'.format(your_answer, actual_answer)\n",
    "\n",
    "print('恭喜你通过挑战 ~')"
   ]
  },
  {
   "cell_type": "markdown",
   "metadata": {},
   "source": [
    "**本题思路**   \n",
    "自己构建0-9,即所有1位数字，通过复制分别构建起连续的3个和2个，利用条件判断它们是否分别在num1和num2构成的字符串中，对0-9每个数字循环后，我们可以得到布尔列表，通过any()函数,得到最终结果"
   ]
  },
  {
   "cell_type": "markdown",
   "metadata": {},
   "source": [
    "**本题要点** \n",
    "\n",
    "- 列表循环构建\n",
    "- 字符串复制\n",
    "- any()函数，any()函数是输入布尔型列表，若这个列表中有True则返回True，否则返回False\n",
    "  如：any([True, True, False])  返回True     any([False,  Fasle,  False])  返回False\n"
   ]
  },
  {
   "cell_type": "markdown",
   "metadata": {},
   "source": [
    "## 用数字来代替字母(2.3, 2.5)\n"
   ]
  },
  {
   "cell_type": "markdown",
   "metadata": {
    "collapsed": true
   },
   "source": [
    "**题目**：在函数中输入一句英文，返回这句英文中的每个字母对应26个字母的位置。\n",
    "      \n",
    "**比如**：\"The sunset sets at twelve o' clock.\"返回'20 8 5 19 21 14 19 5 20 19 5 20 19 1 20 20 23 5 12 22 5 15 3 12 15 3 11'\n"
   ]
  },
  {
   "cell_type": "code",
   "execution_count": null,
   "metadata": {
    "collapsed": true
   },
   "outputs": [],
   "source": [
    "def alphabet_position(text):\n",
    "    pass\n",
    "    # return "
   ]
  },
  {
   "cell_type": "code",
   "execution_count": 19,
   "metadata": {
    "collapsed": true
   },
   "outputs": [],
   "source": [
    "# 小测试 \n",
    "your_answer = alphabet_position(\"The sunset sets at twelve o' clock.\")\n",
    "actual_answer = ' '.join(str(ord(c) - 96) for c in \"The sunset sets at twelve o' clock.\".lower() if c.isalpha())                       \n",
    "assert your_answer == actual_answer,'你的答案是{}, 实际答案是{}, 再检查检查 ~'.format(your_answer, actual_answer)\n",
    "\n",
    "your_answer = alphabet_position(\"The narwhal bacons at midnight.\")\n",
    "actual_answer = ' '.join(str(ord(c) - 96) for c in \"The narwhal bacons at midnight.\".lower() if c.isalpha())                       \n",
    "assert your_answer == actual_answer,'你的答案是{}, 实际答案是{}, 再检查检查 ~'.format(your_answer, actual_answer)"
   ]
  },
  {
   "cell_type": "markdown",
   "metadata": {},
   "source": [
    "本题中最简洁答案新手不太容易想到，我先讲下我自己的答案， 我们再来看投票最高的答案"
   ]
  },
  {
   "cell_type": "markdown",
   "metadata": {},
   "source": [
    "**本题思路**"
   ]
  },
  {
   "cell_type": "code",
   "execution_count": 22,
   "metadata": {
    "collapsed": true
   },
   "outputs": [],
   "source": [
    "# 我的答案\n",
    "def alphabet_position(text):\n",
    "    alpha_str = 'abcdefghijklmnopqrstuvwxyz'  # 首先构建字母表\n",
    "    st = \"\"                                   # 我们发现答案最后返回的是字符串，字符串里是每个数字加空格构成，于是我们在这里建立空字符串\n",
    "    for a in text.lower():                    # 由于我们只构建小写字母表，所以要先将text里的字母都小写，取出里面的每个字母进行判断并获取索引\n",
    "        if a in alpha_str:                    # 我们发现text中不仅有字母，还有空格等符号，因此需要加一个判断，判断循环的字符是否在字母表内\n",
    "            st += str(alpha_str.index(a)+1) + ' '   # 索引是从0开始，而字母表中的位置是从1开始，所以我们要加1， 并加上空格\n",
    "    return st.rstrip()                        # 最后一个数字后面还有一个空格，需要把它去掉"
   ]
  },
  {
   "cell_type": "code",
   "execution_count": 23,
   "metadata": {
    "collapsed": true
   },
   "outputs": [],
   "source": [
    "# 投票最高答案\n",
    "def alphabet_position(text):\n",
    "    return ' '.join(str(ord(c) - 96) for c in text.lower() if c.isalpha())\n",
    "\n",
    "# 首先构建小写字母表并循环判断每个字符是否是字母，如果是字母，ord()函数找到其ascii码，并减掉96得到其字母表位置，最后用空格将它们连接起来\n",
    "# 利用ascii码代替我们自己构建的字母表很有意思"
   ]
  },
  {
   "cell_type": "markdown",
   "metadata": {},
   "source": [
    "**本题要点** \n",
    "\n",
    "- 符号和字符串连接\n",
    "- 字符串大小写转换\n",
    "- 字符串索引\n"
   ]
  },
  {
   "cell_type": "code",
   "execution_count": null,
   "metadata": {
    "collapsed": true
   },
   "outputs": [],
   "source": []
  }
 ],
 "metadata": {
  "kernelspec": {
   "display_name": "Python 3",
   "language": "python",
   "name": "python3"
  },
  "language_info": {
   "codemirror_mode": {
    "name": "ipython",
    "version": 3
   },
   "file_extension": ".py",
   "mimetype": "text/x-python",
   "name": "python",
   "nbconvert_exporter": "python",
   "pygments_lexer": "ipython3",
   "version": "3.6.3"
  },
  "toc": {
   "nav_menu": {},
   "number_sections": true,
   "sideBar": true,
   "skip_h1_title": false,
   "title_cell": "Table of Contents",
   "title_sidebar": "Contents",
   "toc_cell": true,
   "toc_position": {},
   "toc_section_display": true,
   "toc_window_display": false
  }
 },
 "nbformat": 4,
 "nbformat_minor": 2
}
