{
 "cells": [
  {
   "cell_type": "code",
   "execution_count": null,
   "metadata": {
    "collapsed": true
   },
   "outputs": [],
   "source": [
    "'''\n",
    "【8.1】  文件对象声明及基本操作\n",
    "\n",
    "另一种数据格式：文件/文档\n",
    "\n",
    "'''"
   ]
  },
  {
   "cell_type": "code",
   "execution_count": 1,
   "metadata": {},
   "outputs": [
    {
     "name": "stdout",
     "output_type": "stream",
     "text": [
      "C:/Users/HXH/Desktop/text.txt\n",
      "C:\\Users\\HXH\\Desktop\\text.txt\n",
      "C:\\Users\\HXH\\Desktop\\text.txt\n"
     ]
    }
   ],
   "source": [
    "# 本地文件的界定：指向一个本地存储的文件，是一个链接或者一个映射\n",
    "\n",
    "path1 = 'C:/Users/HXH/Desktop/text.txt'  # 单个反斜杠：/\n",
    "path2 = 'C:\\\\Users\\\\HXH\\\\Desktop\\\\text.txt'  # 两个斜杠：\\\\（第一个\\是转义符）\n",
    "path3 = r'C:\\Users\\HXH\\Desktop\\text.txt'  # r用于防止字符转义\n",
    "# 路径书写格式\n",
    "print(path1)\n",
    "print(path2)\n",
    "print(path3)"
   ]
  },
  {
   "cell_type": "code",
   "execution_count": 2,
   "metadata": {},
   "outputs": [
    {
     "name": "stdout",
     "output_type": "stream",
     "text": [
      "<class '_io.TextIOWrapper'>\n",
      "<_io.TextIOWrapper name='C:\\\\Users\\\\Hjx\\\\Desktop\\\\text.txt' mode='r' encoding='cp936'>\n",
      "The Zen of Python, by Tim Peters\n",
      "Beautiful is better than ugly.\n",
      "Explicit is better than implicit.\n",
      "Simple is better than complex.\n",
      "读取完毕\n",
      "\n",
      "读取为空\n",
      "The Zen of Python, by Tim Peters\n",
      "Beautiful is better than ugly.\n",
      "Explicit is better than implicit.\n",
      "Simple is better than complex.\n",
      "第二次读取\n"
     ]
    }
   ],
   "source": [
    "# 读取文件：open语句\n",
    "\n",
    "f = open(path2, 'r')\n",
    "print(type(f))\n",
    "print(f)\n",
    "print(f.read())\n",
    "print('读取完毕')\n",
    "# open('路径', '模式', enconding = '编码' )\n",
    "# 模式：r：读取文件，默认；w：写入；rw：读取+写入；a：追加\n",
    "# 简答的读取方法：.read() → 读取后，光标将会留在读取末尾\n",
    "\n",
    "print(f.read()) \n",
    "print('读取为空')\n",
    "# 运行第一次.read()之后，光标位于末尾，再次读取输出为空\n",
    "\n",
    "f.seek(0)\n",
    "print(f.read()) \n",
    "print('第二次读取')\n",
    "# 所以现在用 f.seek(0) 来移动光标\n",
    "\n",
    "f.close()\n",
    "# print(f.read())   # 关闭后无法读取\n",
    "# 关闭文件链接  f.close()，养成一个好习惯"
   ]
  },
  {
   "cell_type": "code",
   "execution_count": null,
   "metadata": {
    "collapsed": true
   },
   "outputs": [],
   "source": [
    "'''\n",
    "【8.2】  系统模块下的路径操作\n",
    "\n",
    "os 模块：提供了非常丰富的方法用来处理文件和目录\n",
    "\n",
    "'''"
   ]
  },
  {
   "cell_type": "code",
   "execution_count": 2,
   "metadata": {},
   "outputs": [
    {
     "name": "stdout",
     "output_type": "stream",
     "text": [
      "nt\n",
      "F:\\数据分析与机器学习案例课程\\1_微专业：数据分析师\\02_基础语言入门，从零开始学Python\\Github_ipynb\n",
      "['.ipynb_checkpoints', '2.2变量及数据类型.ipynb', '2.3序列及通用操作.ipynb', '2.4字典映射.ipynb', '2.5条件及循环语句.ipynb', '2.6函数.ipynb', '2.7模块与包.ipynb', '2.8数据读写.ipynb', '2.9python小测试.ipynb']\n",
      "('C:\\\\Users\\\\HXH\\\\Desktop', 'text.txt')\n",
      "False\n",
      "False\n"
     ]
    }
   ],
   "source": [
    "# os模块：系统模块 - 常用命令\n",
    "\n",
    "import os  # 导入模块\n",
    "\n",
    "print(os.name)  # 输出字符串指示正在使用的平台。如果是window 则用'nt'表示，对Linux/Unix用户，它是'posix'。\n",
    "\n",
    "print(os.getcwd())  # 函数得到当前工作目录，即当前Python脚本工作的目录路径。\n",
    "\n",
    "print(os.listdir())  # 返回指定目录下的所有文件和目录名。\n",
    "\n",
    "#os.chdir('C:\\\\Users\\\\HXH\\\\Desktop\\\\' )  # 切换到目标路径\n",
    "#print(os.getcwd()) \n",
    "\n",
    "#os.remove('text2.txt')  # 删除一个文件\n",
    "\n",
    "print(os.path.split('C:\\\\Users\\\\HXH\\\\Desktop\\\\text.txt'))  # 函数返回一个路径的目录名和文件名\n",
    "\n",
    "print(os.path.exists('C:\\\\Users\\\\HXH\\\\Desktop\\\\heheh.txt'))\n",
    "print(os.path.exists('C:\\\\Users\\\\HXH\\\\Desktop\\\\'))\n",
    "# 用来检验给出的路径是否真地存在，这里不存在改文件故False，但路径存在故True"
   ]
  },
  {
   "cell_type": "code",
   "execution_count": 4,
   "metadata": {},
   "outputs": [
    {
     "name": "stdout",
     "output_type": "stream",
     "text": [
      "The Zen of Python, by Tim Peters\n",
      "Beautiful is better than ugly.\n",
      "Explicit is better than implicit.\n",
      "Simple is better than complex.\n"
     ]
    }
   ],
   "source": [
    "# 相对路径和绝对路径\n",
    "\n",
    "os.chdir('C:\\\\Users\\\\HXH\\\\Desktop\\\\' )\n",
    "f2 = open('text.txt','r')\n",
    "print(f2.read())\n",
    "# 在申明了目录之后，就可以直接输出文件名了 → 相对路径"
   ]
  },
  {
   "cell_type": "code",
   "execution_count": null,
   "metadata": {
    "collapsed": true
   },
   "outputs": [],
   "source": [
    "'''\n",
    "【8.3】  文件的读取与写入\n",
    "\n",
    "os 模块：提供了非常丰富的方法用来处理文件和目录\n",
    "\n",
    "'''"
   ]
  },
  {
   "cell_type": "code",
   "execution_count": 5,
   "metadata": {},
   "outputs": [
    {
     "name": "stdout",
     "output_type": "stream",
     "text": [
      "The Zen of Python, by Tim Peters\n",
      "Beautiful is better than ugly.\n",
      "Explicit is better than implicit.\n",
      "Simple is better than complex.\n"
     ]
    }
   ],
   "source": [
    "# 文件读取 - read\n",
    "\n",
    "f = open('C:\\\\Users\\\\HXH\\\\Desktop\\\\text.txt', 'r')\n",
    "print(f.read())\n",
    "# 直接读取（这里光标默认会在最末尾）"
   ]
  },
  {
   "cell_type": "code",
   "execution_count": 6,
   "metadata": {},
   "outputs": [
    {
     "name": "stdout",
     "output_type": "stream",
     "text": [
      "Th\n"
     ]
    }
   ],
   "source": [
    "f.seek(0)\n",
    "print(f.read(2))\n",
    "# f.read(n):n代表读取多少个字符"
   ]
  },
  {
   "cell_type": "code",
   "execution_count": 7,
   "metadata": {},
   "outputs": [
    {
     "name": "stdout",
     "output_type": "stream",
     "text": [
      "The Zen of Python, by Tim Peters\n",
      "\n",
      "Beautiful is better than ugly.\n",
      "\n",
      "Expl\n"
     ]
    }
   ],
   "source": [
    "f.seek(0)\n",
    "print(f.readline())\n",
    "print(f.readline())\n",
    "print(f.readline(4))\n",
    "# 读取行到字符串，一次性读取一行\n",
    "# f.readline(n)：读取该行的前n个字符"
   ]
  },
  {
   "cell_type": "code",
   "execution_count": 8,
   "metadata": {
    "scrolled": true
   },
   "outputs": [
    {
     "name": "stdout",
     "output_type": "stream",
     "text": [
      "<class 'str'> The Zen of Python, by Tim Peters\n",
      "\n",
      "<class 'str'> Beautiful is better than ugly.\n",
      "\n",
      "<class 'str'> Explicit is better than implicit.\n",
      "\n",
      "<class 'str'> Simple is better than complex.\n"
     ]
    }
   ],
   "source": [
    "f.seek(0)\n",
    "for line in f.readlines():\n",
    "    print(type(line),line)\n",
    "# 遍历一个文件：for语句+f.readlines()"
   ]
  },
  {
   "cell_type": "code",
   "execution_count": 11,
   "metadata": {},
   "outputs": [
    {
     "data": {
      "text/plain": [
       "12"
      ]
     },
     "execution_count": 11,
     "metadata": {},
     "output_type": "execute_result"
    }
   ],
   "source": [
    "# 文件写入 - write\n",
    "\n",
    "path =  'C:\\\\Users\\\\HXH\\\\Desktop\\\\test_write.txt' \n",
    "f = open(path, 'w', encoding = 'utf8')\n",
    "f.write('hello world!')\n",
    "# 执行后直接创建“test_write.txt”文件，并写入“hello world！”\n",
    "# 12代表输入了12个字符，但是文件内真的有写入吗？打开看看"
   ]
  },
  {
   "cell_type": "code",
   "execution_count": 12,
   "metadata": {
    "collapsed": true
   },
   "outputs": [],
   "source": [
    "f.close()\n",
    "# 为什么没有？因为刚才是在内存里运行，我们需要再加上close才能写入"
   ]
  },
  {
   "cell_type": "code",
   "execution_count": 13,
   "metadata": {
    "collapsed": true
   },
   "outputs": [],
   "source": [
    "path =  'C:\\\\Users\\\\HXH\\\\Desktop\\\\' \n",
    "f = open(path + 'test_write2.txt', 'w', encoding = 'utf8')\n",
    "lst = ['a','b','c','d','e']\n",
    "f.writelines(lst)\n",
    "f.close()\n",
    "# f.writelines(list)：依次把列表元素写入，但这里有没有提行？\n",
    "# 如果想每一个元素提行怎么办？ → 每个元素后都有\"\\n\""
   ]
  },
  {
   "cell_type": "code",
   "execution_count": 14,
   "metadata": {
    "collapsed": true
   },
   "outputs": [],
   "source": [
    "path =  'C:\\\\Users\\\\HXH\\\\Desktop\\\\' \n",
    "f = open(path + 'test_write2.txt', 'w', encoding = 'utf8')\n",
    "lst = ['a','b','c','d','e']\n",
    "\n",
    "for i in range(len(lst)):\n",
    "    lst[i] = lst[i] + '\\n'\n",
    "    \n",
    "f.writelines(lst)\n",
    "f.close()\n",
    "# 通过遍历给每个元素最后加上\"\\n\""
   ]
  },
  {
   "cell_type": "markdown",
   "metadata": {},
   "source": [
    "小作业\n",
    "\n",
    "两个列表[1~10],[a~j]，写入一个txt，变成以下格式\n",
    "\n",
    "1,a\n",
    "\n",
    "2,b\n",
    "\n",
    "3,c\n",
    "\n",
    "..."
   ]
  },
  {
   "cell_type": "code",
   "execution_count": 15,
   "metadata": {},
   "outputs": [
    {
     "name": "stdout",
     "output_type": "stream",
     "text": [
      "finished!\n"
     ]
    }
   ],
   "source": [
    "# 答案代码\n",
    "\n",
    "n = list(range(1,11))\n",
    "v = ['a','b','c','d','e','f','g','h','i','j']\n",
    "\n",
    "f = open( 'C:\\\\Users\\\\HXH\\\\Desktop\\\\test_write3.txt', 'w', encoding = 'utf8')\n",
    "m = []\n",
    "\n",
    "for i in range(len(n)):\n",
    "    f.writelines([str(n[i]),',',v[i] + '\\n'])\n",
    "\n",
    "f.close()\n",
    "print('finished!')"
   ]
  }
 ],
 "metadata": {
  "anaconda-cloud": {},
  "kernelspec": {
   "display_name": "Python 3",
   "language": "python",
   "name": "python3"
  },
  "language_info": {
   "codemirror_mode": {
    "name": "ipython",
    "version": 3
   },
   "file_extension": ".py",
   "mimetype": "text/x-python",
   "name": "python",
   "nbconvert_exporter": "python",
   "pygments_lexer": "ipython3",
   "version": "3.6.3"
  },
  "toc": {
   "nav_menu": {},
   "number_sections": true,
   "sideBar": true,
   "skip_h1_title": false,
   "title_cell": "Table of Contents",
   "title_sidebar": "Contents",
   "toc_cell": false,
   "toc_position": {},
   "toc_section_display": true,
   "toc_window_display": false
  }
 },
 "nbformat": 4,
 "nbformat_minor": 1
}
