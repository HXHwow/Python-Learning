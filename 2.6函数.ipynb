{
 "cells": [
  {
   "cell_type": "code",
   "execution_count": 1,
   "metadata": {},
   "outputs": [
    {
     "data": {
      "text/plain": [
       "'\\n【课程6.2】 自定义函数\\n\\n如何创建函数？def语句\\n\\n'"
      ]
     },
     "execution_count": 1,
     "metadata": {},
     "output_type": "execute_result"
    }
   ],
   "source": [
    "'''\n",
    "【6.2】 自定义函数\n",
    "\n",
    "如何创建函数？def语句\n",
    "\n",
    "'''"
   ]
  },
  {
   "cell_type": "code",
   "execution_count": 4,
   "metadata": {},
   "outputs": [
    {
     "name": "stdout",
     "output_type": "stream",
     "text": [
      "请输入一个数字20\n",
      "正数\n"
     ]
    }
   ],
   "source": [
    "# 定义函数\n",
    "a = float(input('请输入一个数字'))\n",
    "\n",
    "def guess(x):\n",
    "\n",
    "    if a > 0:\n",
    "        print('正数')\n",
    "    elif a < 0:\n",
    "        print('负数')     # 定义函数，其中x是参数（局部变量）\n",
    "    else:\n",
    "        print('0')\n",
    "guess(a)\n",
    "# 运行函数"
   ]
  },
  {
   "cell_type": "code",
   "execution_count": 8,
   "metadata": {},
   "outputs": [
    {
     "name": "stdout",
     "output_type": "stream",
     "text": [
      "None 4\n"
     ]
    }
   ],
   "source": [
    "# 关于return\n",
    "def f1(x):\n",
    "    y = 2**x\n",
    "\n",
    "def f2(x):\n",
    "    y = 2**x\n",
    "    return y\n",
    "\n",
    "print(f1(2), f2(2))\n",
    "#return语句退出函数，并返回一个表达式，不带参数值的return语句返回None"
   ]
  },
  {
   "cell_type": "code",
   "execution_count": 9,
   "metadata": {},
   "outputs": [
    {
     "data": {
      "text/plain": [
       "9"
      ]
     },
     "execution_count": 9,
     "metadata": {},
     "output_type": "execute_result"
    }
   ],
   "source": [
    "# 默认参数\n",
    "\n",
    "def f(x,n=2):\n",
    "    return x**n\n",
    "f(3)\n",
    "# n = 2,这里的n的默认值是2，如果不输入则以默认值为主"
   ]
  },
  {
   "cell_type": "code",
   "execution_count": 10,
   "metadata": {},
   "outputs": [
    {
     "data": {
      "text/plain": [
       "(1, 2, 3, 4, 5)"
      ]
     },
     "execution_count": 10,
     "metadata": {},
     "output_type": "execute_result"
    }
   ],
   "source": [
    "# 可变参数\n",
    "def f(*x):\n",
    "    return x\n",
    "f(1,2, 3, 4, 5)\n",
    "# 默认返回元组"
   ]
  },
  {
   "cell_type": "code",
   "execution_count": 12,
   "metadata": {},
   "outputs": [
    {
     "name": "stdout",
     "output_type": "stream",
     "text": [
      "输出字符串:dfjh\n",
      "d\n",
      "f\n",
      "j\n",
      "h\n"
     ]
    }
   ],
   "source": [
    "# 小作业1\n",
    "\n",
    "def out():\n",
    "    string = input('输出字符串:')\n",
    "    for s in string:\n",
    "        print(s)\n",
    "        \n",
    "out()"
   ]
  },
  {
   "cell_type": "code",
   "execution_count": 13,
   "metadata": {},
   "outputs": [
    {
     "data": {
      "text/plain": [
       "-9"
      ]
     },
     "execution_count": 13,
     "metadata": {},
     "output_type": "execute_result"
    }
   ],
   "source": [
    "def f(x, y, z):\n",
    "    return((x+y)*(x-y)*z)\n",
    "f(1, 2, 3)"
   ]
  },
  {
   "cell_type": "code",
   "execution_count": 16,
   "metadata": {},
   "outputs": [
    {
     "data": {
      "text/plain": [
       "3.0"
      ]
     },
     "execution_count": 16,
     "metadata": {},
     "output_type": "execute_result"
    }
   ],
   "source": [
    "def get_mean(*x):\n",
    "    return sum(x)/len(x)\n",
    "\n",
    "get_mean(1,2,3,6)"
   ]
  },
  {
   "cell_type": "code",
   "execution_count": 22,
   "metadata": {},
   "outputs": [
    {
     "name": "stdout",
     "output_type": "stream",
     "text": [
      "请输入123\n",
      "123\n"
     ]
    }
   ],
   "source": [
    "a = eval(input('请输入'))\n",
    "print(a)"
   ]
  },
  {
   "cell_type": "code",
   "execution_count": 21,
   "metadata": {},
   "outputs": [
    {
     "data": {
      "text/plain": [
       "{'a': None, 2: None, 's': None}"
      ]
     },
     "execution_count": 21,
     "metadata": {},
     "output_type": "execute_result"
    }
   ],
   "source": [
    "def make_dic(lst):\n",
    "    dic = {}\n",
    "    for s in lst:\n",
    "        dic[s] = None\n",
    "    return dic\n",
    "make_dic(['a',2,'s'])"
   ]
  },
  {
   "cell_type": "code",
   "execution_count": 19,
   "metadata": {},
   "outputs": [
    {
     "data": {
      "text/plain": [
       "True"
      ]
     },
     "execution_count": 19,
     "metadata": {},
     "output_type": "execute_result"
    }
   ],
   "source": [
    "'3'.isnumeric()"
   ]
  },
  {
   "cell_type": "code",
   "execution_count": 27,
   "metadata": {},
   "outputs": [
    {
     "data": {
      "text/plain": [
       "{1: None, 2: None, 3: None}"
      ]
     },
     "execution_count": 27,
     "metadata": {},
     "output_type": "execute_result"
    }
   ],
   "source": [
    "def make_dic(lst):\n",
    "    dic = {}\n",
    "    dic = dic.fromkeys(lst)\n",
    "    return dic\n",
    "make_dic([1,2,3])"
   ]
  },
  {
   "cell_type": "code",
   "execution_count": null,
   "metadata": {
    "collapsed": true
   },
   "outputs": [],
   "source": [
    "'''\n",
    "【6.3】 局部变量及全局变量\n",
    "\n",
    "定义在函数内部的变量拥有一个局部作用域，定义在函数外的全局作用域。\n",
    "\n",
    "局部变量只能在其声明的函数内部访问，而全局变量可以在整个程序范围内访问。调用函数时，所有在函数内声明的变量名称都将被加入到作用域中\n",
    "\n",
    "'''"
   ]
  },
  {
   "cell_type": "code",
   "execution_count": 30,
   "metadata": {},
   "outputs": [
    {
     "name": "stdout",
     "output_type": "stream",
     "text": [
      "10\n",
      "呵呵\n",
      "None\n"
     ]
    }
   ],
   "source": [
    "def f(m):\n",
    "    m = '呵呵'\n",
    "    print(m)\n",
    "a = 10\n",
    "print(a)\n",
    "print(f(a))\n",
    "# f(m)中,m是函数的参数,f(x)是把x的值赋予了m，但x值自己本身不受影响，所以执行函数后，是在函数局部\"变化\"了x。\n",
    "# 什么是局部变量？ → 当函数定义内声明变量的时候，它们与函数外具有相同名称的其它函数变量没有任何关系！\n",
    "# 即变量名称对于函数来说是局部的，这称为变量的作用域、所有变量的作用域是它们被定义的块，从它们的名称被定义的那点开始。"
   ]
  },
  {
   "cell_type": "code",
   "execution_count": 32,
   "metadata": {},
   "outputs": [
    {
     "name": "stdout",
     "output_type": "stream",
     "text": [
      "10\n",
      "呵呵哒\n",
      "呵呵哒\n"
     ]
    }
   ],
   "source": [
    "#global语句 → 把局部变量转化全局变量\n",
    "\n",
    "def f():\n",
    "    global a\n",
    "    a = '呵呵哒'\n",
    "    return a\n",
    "a = 10\n",
    "print(a)\n",
    "print(f())\n",
    "print(a)"
   ]
  },
  {
   "cell_type": "code",
   "execution_count": null,
   "metadata": {
    "collapsed": true
   },
   "outputs": [],
   "source": [
    "'''\n",
    "【6.4】 匿名函数Lambda\n",
    "\n",
    "lambda 语句创建匿名函数\n",
    "\n",
    "'''"
   ]
  },
  {
   "cell_type": "code",
   "execution_count": 34,
   "metadata": {},
   "outputs": [
    {
     "name": "stdout",
     "output_type": "stream",
     "text": [
      "5\n"
     ]
    },
    {
     "data": {
      "text/plain": [
       "6"
      ]
     },
     "execution_count": 34,
     "metadata": {},
     "output_type": "execute_result"
    }
   ],
   "source": [
    "# 示例\n",
    "\n",
    "def fun(a, b, c):\n",
    "    return a+b+c\n",
    "print(fun(1,2,2))\n",
    "# def 自定义函数求和\n",
    "\n",
    "get_sum = lambda a,b,c:a+b+c\n",
    "get_sum(1,2,3)\n",
    "# lambda作为匿名函数。是不需要函数名的 → 需要一个函数，又不想动脑筋去想名字，这就是匿名函数\n",
    "# lambda的主体是一个表达式，而不是一个代码块\n",
    "# lambda只有一行，仅仅能在lambda表达式中封装有限的逻辑"
   ]
  },
  {
   "cell_type": "code",
   "execution_count": 35,
   "metadata": {},
   "outputs": [
    {
     "data": {
      "text/plain": [
       "5"
      ]
     },
     "execution_count": 35,
     "metadata": {},
     "output_type": "execute_result"
    }
   ],
   "source": [
    "f = lambda x:len(x)\n",
    "f([1,2,3,4,5])"
   ]
  },
  {
   "cell_type": "code",
   "execution_count": 38,
   "metadata": {},
   "outputs": [
    {
     "data": {
      "text/plain": [
       "[53, 5, 5, 4, 1]"
      ]
     },
     "execution_count": 38,
     "metadata": {},
     "output_type": "execute_result"
    }
   ],
   "source": [
    "f = lambda x:sorted(x,reverse=True)\n",
    "f([1,5,53,4,5])"
   ]
  },
  {
   "cell_type": "code",
   "execution_count": 43,
   "metadata": {},
   "outputs": [
    {
     "data": {
      "text/plain": [
       "'A'"
      ]
     },
     "execution_count": 43,
     "metadata": {},
     "output_type": "execute_result"
    }
   ],
   "source": [
    "def g_rank(grades):\n",
    "    if grades >= 90:\n",
    "        return('A')\n",
    "    elif grades >= 60:\n",
    "        return 'B'\n",
    "    else:\n",
    "        return 'C'\n",
    "g_rank(90)"
   ]
  },
  {
   "cell_type": "code",
   "execution_count": 47,
   "metadata": {},
   "outputs": [
    {
     "data": {
      "text/plain": [
       "{'alpha': 10, 'num': 0, 'other': 0, 'space': 1}"
      ]
     },
     "execution_count": 47,
     "metadata": {},
     "output_type": "execute_result"
    }
   ],
   "source": [
    "def count_zifu(string):\n",
    "    dic = {'alpha':0,'num':0, 'space':0,'other':0}\n",
    "    for s in string:\n",
    "        if s.isalpha():\n",
    "            dic['alpha'] += 1\n",
    "        elif s.isnumeric():\n",
    "            dic['num'] += 1\n",
    "        elif s == ' ':\n",
    "            dic['space'] += 1\n",
    "        else:\n",
    "            dic['other'] += 1\n",
    "    return dic\n",
    "count_zifu('hello world')    "
   ]
  },
  {
   "cell_type": "code",
   "execution_count": 49,
   "metadata": {},
   "outputs": [
    {
     "data": {
      "text/plain": [
       "True"
      ]
     },
     "execution_count": 49,
     "metadata": {},
     "output_type": "execute_result"
    }
   ],
   "source": [
    "'2'.isdigit()"
   ]
  },
  {
   "cell_type": "code",
   "execution_count": 51,
   "metadata": {},
   "outputs": [
    {
     "data": {
      "text/plain": [
       "True"
      ]
     },
     "execution_count": 51,
     "metadata": {},
     "output_type": "execute_result"
    }
   ],
   "source": [
    "'3'.isnumeric()"
   ]
  },
  {
   "cell_type": "code",
   "execution_count": null,
   "metadata": {
    "collapsed": true
   },
   "outputs": [],
   "source": []
  },
  {
   "cell_type": "code",
   "execution_count": null,
   "metadata": {
    "collapsed": true
   },
   "outputs": [],
   "source": []
  },
  {
   "cell_type": "code",
   "execution_count": null,
   "metadata": {
    "collapsed": true
   },
   "outputs": [],
   "source": []
  },
  {
   "cell_type": "code",
   "execution_count": null,
   "metadata": {
    "collapsed": true
   },
   "outputs": [],
   "source": []
  },
  {
   "cell_type": "code",
   "execution_count": null,
   "metadata": {
    "collapsed": true
   },
   "outputs": [],
   "source": []
  },
  {
   "cell_type": "code",
   "execution_count": null,
   "metadata": {
    "collapsed": true
   },
   "outputs": [],
   "source": []
  }
 ],
 "metadata": {
  "kernelspec": {
   "display_name": "Python 3",
   "language": "python",
   "name": "python3"
  },
  "language_info": {
   "codemirror_mode": {
    "name": "ipython",
    "version": 3
   },
   "file_extension": ".py",
   "mimetype": "text/x-python",
   "name": "python",
   "nbconvert_exporter": "python",
   "pygments_lexer": "ipython3",
   "version": "3.6.3"
  },
  "toc": {
   "nav_menu": {},
   "number_sections": true,
   "sideBar": true,
   "skip_h1_title": false,
   "title_cell": "Table of Contents",
   "title_sidebar": "Contents",
   "toc_cell": false,
   "toc_position": {},
   "toc_section_display": true,
   "toc_window_display": false
  }
 },
 "nbformat": 4,
 "nbformat_minor": 2
}
