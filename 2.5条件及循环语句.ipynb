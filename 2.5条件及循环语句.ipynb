{
 "cells": [
  {
   "cell_type": "code",
   "execution_count": null,
   "metadata": {
    "collapsed": true
   },
   "outputs": [],
   "source": [
    "'''\n",
    "【5.2】 条件判断：if语句\n",
    "\n",
    "Python条件语句是通过一条或多条语句的执行结果（True或False）来决定执行的代码块。\n",
    "\n",
    "if 判断条件：\n",
    "    执行语句.....\n",
    "else:\n",
    "    执行语句.....\n",
    "    \n",
    "**要有缩进的概念\n",
    "\n",
    "'''"
   ]
  },
  {
   "cell_type": "code",
   "execution_count": 15,
   "metadata": {},
   "outputs": [
    {
     "name": "stdout",
     "output_type": "stream",
     "text": [
      "finished!\n"
     ]
    }
   ],
   "source": [
    "# 基本判断语句\n",
    "\n",
    "age = 20\n",
    "if age < 18:\n",
    "    print('18岁以下不能')\n",
    "print('finished!')\n",
    "# if语句后面必须有:\n",
    "# 自动缩进\n",
    "# if语句写完后，要退回原有缩进继续写\n",
    "# Python代码的缩进规则：具有相同缩进的代码被视为一个代码块"
   ]
  },
  {
   "cell_type": "code",
   "execution_count": 9,
   "metadata": {},
   "outputs": [
    {
     "name": "stdout",
     "output_type": "stream",
     "text": [
      "请输入成绩：\n",
      "20\n",
      "20.0 <class 'float'>\n",
      "该学生成绩为20.00\n"
     ]
    }
   ],
   "source": [
    "# 输入函数input()\n",
    "\n",
    "score = float(input('请输入成绩：\\n'))\n",
    "print(score,type(score))\n",
    "print('该学生成绩为%.2f'%score)\n",
    "# 注意：input()返回结果为字符串，如果需要变为数字则用到int()/float()"
   ]
  },
  {
   "cell_type": "code",
   "execution_count": 8,
   "metadata": {},
   "outputs": [
    {
     "name": "stdout",
     "output_type": "stream",
     "text": [
      "damon\n"
     ]
    }
   ],
   "source": [
    "# 两种判断条件：if-else\n",
    "flag = False\n",
    "name = 'damon'\n",
    "if name == 'python':     # 判断变量是否为'python'\n",
    "    flag = True          # 条件成立时设置标志为真\n",
    "    print('welcome boss')      # 输出欢迎信息\n",
    "else:\n",
    "    flag = False\n",
    "    print(name)         # 条件不成立时输出变量名称"
   ]
  },
  {
   "cell_type": "code",
   "execution_count": 14,
   "metadata": {},
   "outputs": [
    {
     "name": "stdout",
     "output_type": "stream",
     "text": [
      "hello\n",
      "undefine\n",
      "undefine\n"
     ]
    }
   ],
   "source": [
    "# 单语句多条件判断：or and\n",
    "num = 5\n",
    "if num >= 0 and num <=10:\n",
    "    print('hello')\n",
    "# 判断值是否在0-10之间\n",
    "# 输出结果：hello\n",
    "\n",
    "num = 10\n",
    "if num < 0 or num >10:\n",
    "    print('hello')\n",
    "else:\n",
    "    print('undefine')\n",
    "# 判断值是否小于0或大于10\n",
    "# 输出结果：underfine\n",
    "\n",
    "num = 8\n",
    "if (num >= 0 and num <=5) or (num >=10 and num <=15):\n",
    "    print('hello')\n",
    "else:\n",
    "    print('undefine')\n",
    "# 判断值是否在0~5或10~15\n",
    "# 输出结果：underfine"
   ]
  },
  {
   "cell_type": "code",
   "execution_count": 18,
   "metadata": {},
   "outputs": [
    {
     "name": "stdout",
     "output_type": "stream",
     "text": [
      "请输入一个成绩：60\n",
      "及格\n"
     ]
    }
   ],
   "source": [
    "### 小作业\n",
    "\n",
    "grade = float(input('请输入一个成绩：'))\n",
    "if grade >= 60:\n",
    "    print('及格')\n",
    "else:\n",
    "    print('不及格')\n"
   ]
  },
  {
   "cell_type": "code",
   "execution_count": null,
   "metadata": {
    "collapsed": true
   },
   "outputs": [],
   "source": [
    "'''\n",
    "【5.3】 循环语句：for循环\n",
    "\n",
    "for 循环可以遍历任何序列的项目，如一个列表或者一个字符串\n",
    "\n",
    "迭代\n",
    "\n",
    "'''"
   ]
  },
  {
   "cell_type": "code",
   "execution_count": 2,
   "metadata": {},
   "outputs": [
    {
     "name": "stdout",
     "output_type": "stream",
     "text": [
      "hello world!\n",
      "hello world!\n",
      "hello world!\n",
      "hello world!\n",
      "hello world!\n"
     ]
    }
   ],
   "source": [
    "# 想输出'hello world!'5次怎么办？\n",
    "for i in range(5):\n",
    "    print('hello world!')"
   ]
  },
  {
   "cell_type": "code",
   "execution_count": 8,
   "metadata": {},
   "outputs": [
    {
     "name": "stdout",
     "output_type": "stream",
     "text": [
      "0\n",
      "2\n",
      "4\n",
      "6\n",
      "Tom年龄为18岁\n",
      "Jack年龄为19岁\n",
      "Alex年龄为17岁\n",
      "Mary年龄为20岁\n"
     ]
    }
   ],
   "source": [
    "# 通过for循环遍历序列，映射\n",
    "lst = list(range(8))\n",
    "for i in lst[::2]:\n",
    "    print(i)\n",
    "# 遍历list\n",
    "    \n",
    "age = {'Tom':18, 'Jack':19, 'Alex':17, 'Mary':20}\n",
    "for name in age:\n",
    "    print(\"%s年龄为%i岁\"%(name,age[name]))\n",
    "# 遍历字典"
   ]
  },
  {
   "cell_type": "code",
   "execution_count": 10,
   "metadata": {},
   "outputs": [
    {
     "name": "stdout",
     "output_type": "stream",
     "text": [
      "0 0\n",
      "0 1\n",
      "1 0\n",
      "1 1\n",
      "2 0\n",
      "2 1\n"
     ]
    }
   ],
   "source": [
    "# 嵌套循环\n",
    "\n",
    "for i in range(3):\n",
    "    for j in range(2):\n",
    "        print(i, j)\n",
    "# 循环套循环，注意：尽量不要多于3个嵌套"
   ]
  },
  {
   "cell_type": "code",
   "execution_count": 12,
   "metadata": {},
   "outputs": [
    {
     "name": "stdout",
     "output_type": "stream",
     "text": [
      "0\n",
      "1\n"
     ]
    }
   ],
   "source": [
    "lst = range(2)\n",
    "for i in lst:\n",
    "    print(i)"
   ]
  },
  {
   "cell_type": "code",
   "execution_count": 13,
   "metadata": {},
   "outputs": [
    {
     "name": "stdout",
     "output_type": "stream",
     "text": [
      "a\n",
      "b\n",
      "c\n",
      "d\n",
      "e\n",
      "f\n",
      "g\n"
     ]
    }
   ],
   "source": [
    "str1 = 'abcdefg'\n",
    "for alpha in str1:\n",
    "    print(alpha)"
   ]
  },
  {
   "cell_type": "code",
   "execution_count": 14,
   "metadata": {},
   "outputs": [
    {
     "name": "stdout",
     "output_type": "stream",
     "text": [
      "name\n",
      "Tom\n",
      "age\n",
      "20\n"
     ]
    }
   ],
   "source": [
    "dic = {'name':'Tom', 'age':20}\n",
    "for key in dic.keys():\n",
    "    print(key)\n",
    "    print(dic[key])"
   ]
  },
  {
   "cell_type": "code",
   "execution_count": 16,
   "metadata": {},
   "outputs": [
    {
     "name": "stdout",
     "output_type": "stream",
     "text": [
      "请输入n:3\n",
      "hello world\n",
      "hello world\n",
      "hello world\n"
     ]
    }
   ],
   "source": [
    "n = int(input('请输入n:'))\n",
    "for i in range(n):\n",
    "    print('hello world')"
   ]
  },
  {
   "cell_type": "code",
   "execution_count": 31,
   "metadata": {},
   "outputs": [
    {
     "name": "stdout",
     "output_type": "stream",
     "text": [
      "输入首项a2\n",
      "输入项数n2\n",
      "输入公差d2\n",
      "等差数列为[2.0, 4.0],和为6.0\n"
     ]
    }
   ],
   "source": [
    "a = float(input('输入首项a'))\n",
    "n = int(input('输入项数n'))\n",
    "d = float(input('输入公差d'))\n",
    "lst = [a+d*i for i in range(n)]\n",
    "s = sum(lst)\n",
    "print('等差数列为{},和为{}'.format(lst, s))"
   ]
  },
  {
   "cell_type": "code",
   "execution_count": 29,
   "metadata": {},
   "outputs": [
    {
     "name": "stdout",
     "output_type": "stream",
     "text": [
      "6\n"
     ]
    }
   ],
   "source": [
    "a = [1, 2, 3]\n",
    "print(sum(a))"
   ]
  },
  {
   "cell_type": "code",
   "execution_count": 19,
   "metadata": {},
   "outputs": [
    {
     "name": "stdout",
     "output_type": "stream",
     "text": [
      "{'a': 1, 'b': 2, 'c': 3}\n"
     ]
    }
   ],
   "source": [
    "a = ['a', 'b', 'c']\n",
    "b = [1, 2, 3]\n",
    "dic = {}\n",
    "for i in range(3):\n",
    "    dic[a[i]] = b[i]\n",
    "print(dic)"
   ]
  },
  {
   "cell_type": "code",
   "execution_count": 32,
   "metadata": {},
   "outputs": [
    {
     "data": {
      "text/plain": [
       "'\\n【课程5.4】 循环语句：while循环\\n\\n执行语句可以是单个语句或语句块\\n\\n判断条件可以是任何表达式，任何非零、或非空（null）的值均为true\\n\\n当判断条件为false时，循环结束。\\n\\n'"
      ]
     },
     "execution_count": 32,
     "metadata": {},
     "output_type": "execute_result"
    }
   ],
   "source": [
    "'''\n",
    "【5.4】 循环语句：while循环\n",
    "\n",
    "执行语句可以是单个语句或语句块\n",
    "\n",
    "判断条件可以是任何表达式，任何非零、或非空（null）的值均为true\n",
    "\n",
    "当判断条件为false时，循环结束。\n",
    "\n",
    "'''"
   ]
  },
  {
   "cell_type": "code",
   "execution_count": 36,
   "metadata": {},
   "outputs": [
    {
     "name": "stdout",
     "output_type": "stream",
     "text": [
      "The count is: 0\n",
      "The count is: 1\n",
      "good bye\n"
     ]
    }
   ],
   "source": [
    "# 基本运行逻辑\n",
    "\n",
    "count = 0\n",
    "while count < 2:\n",
    "    print('The count is:',count)\n",
    "    count += 1\n",
    "print('good bye')\n",
    "# 这里count<2是个判断语句，当判断为true时，则继续运行"
   ]
  },
  {
   "cell_type": "code",
   "execution_count": null,
   "metadata": {
    "collapsed": true
   },
   "outputs": [],
   "source": [
    "# 关于无限循环:如果条件判断语句永远为true，循环将无限执行下去\n",
    "var = 1\n",
    "while var < 2:\n",
    "    print(1)\n",
    "# 该条件永远为true，循环将无限执行\n",
    "# 一定要避免无限循环"
   ]
  },
  {
   "cell_type": "code",
   "execution_count": 38,
   "metadata": {},
   "outputs": [
    {
     "name": "stdout",
     "output_type": "stream",
     "text": [
      "count小于5\n",
      "count小于5\n",
      "count小于5\n",
      "count小于5\n",
      "count小于5\n",
      "count大于等于5\n"
     ]
    }
   ],
   "source": [
    "# while-else语句\n",
    "count = 0\n",
    "while count < 5:\n",
    "    print('count小于5')\n",
    "    count += 1\n",
    "else:\n",
    "    print('count大于等于5')\n",
    "# 逻辑和if-else一样"
   ]
  },
  {
   "cell_type": "code",
   "execution_count": 39,
   "metadata": {},
   "outputs": [
    {
     "data": {
      "text/plain": [
       "'\\n【课程5.5】  循环控制语句\\n\\nbreak：在语句块执行过程中终止循环，并且跳出整个循环\\n\\ncontinue：在语句块执行过程中跳出该次循环，执行下一次循环\\n\\npass: pass是空语句，是为了保持程序结构的完整性\\n'"
      ]
     },
     "execution_count": 39,
     "metadata": {},
     "output_type": "execute_result"
    }
   ],
   "source": [
    "'''\n",
    "【5.5】  循环控制语句\n",
    "\n",
    "break：在语句块执行过程中终止循环，并且跳出整个循环\n",
    "\n",
    "continue：在语句块执行过程中跳出该次循环，执行下一次循环\n",
    "\n",
    "pass: pass是空语句，是为了保持程序结构的完整性\n",
    "'''"
   ]
  },
  {
   "cell_type": "code",
   "execution_count": 1,
   "metadata": {
    "collapsed": true
   },
   "outputs": [
    {
     "name": "stdout",
     "output_type": "stream",
     "text": [
      "190\n",
      "1\n",
      "第1次运算\n",
      "3\n",
      "第2次运算\n",
      "6\n",
      "第3次运算\n",
      "8\n",
      "第4次运算\n",
      "11\n",
      "第5次运算\n",
      "15\n",
      "第6次运算\n",
      "20\n",
      "第7次运算\n",
      "26\n",
      "第8次运算\n",
      "33\n",
      "第9次运算\n",
      "41\n",
      "第10次运算\n",
      "50\n",
      "第11次运算\n"
     ]
    },
    {
     "data": {
      "text/plain": [
       "50"
      ]
     },
     "execution_count": 1,
     "metadata": {},
     "output_type": "execute_result"
    }
   ],
   "source": [
    "# break语句\n",
    "\n",
    "s = 0\n",
    "n = 1\n",
    "while n > 0:\n",
    "    s += n\n",
    "    n += 1\n",
    "    if n == 20:\n",
    "        break\n",
    "print(s)\n",
    "# break语句用来终止循环语句，即便没有循环条件没有False条件或者序列还没被完全递归完，也会停止执行循环语句\n",
    "\n",
    "s = 0\n",
    "n = 0\n",
    "for i in range(1,10):\n",
    "    for j in range(1,5):\n",
    "        s = s + (i*j)\n",
    "        print(s)\n",
    "        n += 1\n",
    "        print('第%i次运算'%n)\n",
    "        if s > 3:\n",
    "            break\n",
    "print(s)\n",
    "# 如果使用嵌套循环，break语句将停止执行最深层的循环，并开始执行下一行代码\n"
   ]
  },
  {
   "cell_type": "code",
   "execution_count": 7,
   "metadata": {},
   "outputs": [
    {
     "name": "stdout",
     "output_type": "stream",
     "text": [
      "p\n",
      "y\n",
      "t\n",
      "o\n",
      "n\n"
     ]
    }
   ],
   "source": [
    "# continue\n",
    "\n",
    "for letter in 'python':\n",
    "    if letter == 'h':\n",
    "        continue\n",
    "    print(letter)\n",
    "# continue 语句用来告诉python跳过当前循环的剩余语句，然后继续"
   ]
  },
  {
   "cell_type": "code",
   "execution_count": 8,
   "metadata": {},
   "outputs": [
    {
     "name": "stdout",
     "output_type": "stream",
     "text": [
      "p\n",
      "y\n",
      "t\n",
      "但是我pass了\n",
      "h\n",
      "o\n",
      "n\n"
     ]
    }
   ],
   "source": [
    "# pass 语句\n",
    "\n",
    "for letter in 'python':\n",
    "    if letter == 'h':\n",
    "        pass\n",
    "        print('但是我pass了')\n",
    "    print(letter)\n",
    "# pass是空语句，是为了保持程序结构的完整性 （不中断也不跳过）"
   ]
  },
  {
   "cell_type": "code",
   "execution_count": null,
   "metadata": {
    "collapsed": true
   },
   "outputs": [],
   "source": []
  }
 ],
 "metadata": {
  "kernelspec": {
   "display_name": "Python 3",
   "language": "python",
   "name": "python3"
  },
  "language_info": {
   "codemirror_mode": {
    "name": "ipython",
    "version": 3
   },
   "file_extension": ".py",
   "mimetype": "text/x-python",
   "name": "python",
   "nbconvert_exporter": "python",
   "pygments_lexer": "ipython3",
   "version": "3.6.3"
  },
  "toc": {
   "nav_menu": {},
   "number_sections": true,
   "sideBar": true,
   "skip_h1_title": false,
   "title_cell": "Table of Contents",
   "title_sidebar": "Contents",
   "toc_cell": false,
   "toc_position": {},
   "toc_section_display": true,
   "toc_window_display": false
  }
 },
 "nbformat": 4,
 "nbformat_minor": 2
}
